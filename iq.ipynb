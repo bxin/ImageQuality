{
 "cells": [
  {
   "cell_type": "code",
   "execution_count": null,
   "metadata": {},
   "outputs": [],
   "source": [
    "import ruamel.yaml as yaml\n",
    "import numpy as np"
   ]
  },
  {
   "cell_type": "code",
   "execution_count": null,
   "metadata": {},
   "outputs": [],
   "source": [
    "def IQ_aggregate(data):\n",
    "    ts_al = 0\n",
    "    ts_pe = 0\n",
    "    ts_ab = 0\n",
    "    for s1 in data:\n",
    "        if 'total' not in s1.lower():\n",
    "            ts1_al = 0\n",
    "            ts1_pe = 0\n",
    "            ts1_ab = 0\n",
    "            try:\n",
    "                for s2 in data[s1]:\n",
    "                    if 'total' not in s2.lower():\n",
    "                        ts2_al = 0\n",
    "                        ts2_pe = 0\n",
    "                        ts2_ab = 0\n",
    "                        try:\n",
    "                            for s3 in data[s1][s2]:\n",
    "                                if 'total' not in s3.lower():\n",
    "                                    s = data[s1][s2][s3]['allocation']\n",
    "                                    ts2_al = np.sqrt(ts2_al**2+s**2)\n",
    "                                    s = data[s1][s2][s3]['prior-estimate']\n",
    "                                    ts2_pe = np.sqrt(ts2_pe**2+s**2)\n",
    "                                    s = data[s1][s2][s3]['as-built']\n",
    "                                    ts2_ab = np.sqrt(ts2_ab**2+s**2)\n",
    "                            pos = len(data[s1][s2])\n",
    "                            dt = {}\n",
    "                            dt['allocation'] = int(round(ts2_al))\n",
    "                            dt['prior-estimate'] = int(round(ts2_pe))\n",
    "                            dt['as-built'] = int(round(ts2_ab))\n",
    "                            data[s1][s2].insert(pos,'total',dt)\n",
    "                        except TypeError:\n",
    "                            ts2_al = data[s1][s2]['allocation']\n",
    "                            ts2_pe = data[s1][s2]['prior-estimate']\n",
    "                            ts2_ab = data[s1][s2]['as-built']\n",
    "                            \n",
    "                        ts1_al = np.sqrt(ts1_al**2 + ts2_al**2)\n",
    "                        ts1_pe = np.sqrt(ts1_pe**2 + ts2_pe**2)\n",
    "                        ts1_ab = np.sqrt(ts1_ab**2 + ts2_ab**2)\n",
    "                        \n",
    "                pos = len(data[s1])\n",
    "                dt = {}\n",
    "                dt['allocation'] = int(round(ts1_al))\n",
    "                dt['prior-estimate'] = int(round(ts1_pe))\n",
    "                dt['as-built'] = int(round(ts1_ab))\n",
    "                data[s1].insert(pos,'total',dt)\n",
    "            except TypeError:\n",
    "                ts1_al = data[s1]['allocation']\n",
    "                ts1_pe = data[s1]['prior-estimate']\n",
    "                ts1_ab = data[s1]['as-built']\n",
    "                \n",
    "            ts_al = np.sqrt(ts_al**2 + ts1_al**2)\n",
    "            ts_pe = np.sqrt(ts_pe**2 + ts1_pe**2)\n",
    "            ts_ab = np.sqrt(ts_ab**2 + ts1_ab**2)\n",
    "            \n",
    "    pos = len(data)\n",
    "    dt = {}\n",
    "    dt['allocation'] = int(round(ts_al))\n",
    "    dt['prior-estimate'] = int(round(ts_pe))\n",
    "    dt['as-built'] = int(round(ts_ab))\n",
    "    data.insert(pos,'total',dt)\n",
    "    \n",
    "    return data"
   ]
  },
  {
   "cell_type": "code",
   "execution_count": null,
   "metadata": {},
   "outputs": [],
   "source": [
    "subsys = 'tls'\n",
    "with open('data/%s.yml'%subsys) as fp:\n",
    "    data = yaml.round_trip_load(fp)\n",
    "lts = IQ_aggregate(data)"
   ]
  },
  {
   "cell_type": "code",
   "execution_count": null,
   "metadata": {},
   "outputs": [],
   "source": [
    "print(yaml.round_trip_dump(lts))"
   ]
  },
  {
   "cell_type": "code",
   "execution_count": null,
   "metadata": {},
   "outputs": [],
   "source": [
    "subsys = 'cam';\n",
    "with open('data/%s.yml'%subsys) as fp:\n",
    "    data = yaml.round_trip_load(fp)\n",
    "cam = IQ_aggregate(data)"
   ]
  },
  {
   "cell_type": "code",
   "execution_count": null,
   "metadata": {},
   "outputs": [],
   "source": [
    "print(yaml.round_trip_dump(cam))"
   ]
  },
  {
   "cell_type": "code",
   "execution_count": null,
   "metadata": {},
   "outputs": [],
   "source": []
  }
 ],
 "metadata": {
  "kernelspec": {
   "display_name": "Python 3",
   "language": "python",
   "name": "python3"
  },
  "language_info": {
   "codemirror_mode": {
    "name": "ipython",
    "version": 3
   },
   "file_extension": ".py",
   "mimetype": "text/x-python",
   "name": "python",
   "nbconvert_exporter": "python",
   "pygments_lexer": "ipython3",
   "version": "3.6.6"
  }
 },
 "nbformat": 4,
 "nbformat_minor": 1
}
